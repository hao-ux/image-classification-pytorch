{
 "cells": [
  {
   "cell_type": "code",
   "execution_count": 4,
   "metadata": {},
   "outputs": [
    {
     "name": "stdout",
     "output_type": "stream",
     "text": [
      "./data/train/flower0/image_0001.jpg\n"
     ]
    }
   ],
   "source": [
    "with open('./valid_cls.txt', 'r') as f:\n",
    "    print(f.readlines()[0].split(';')[1].split()[0])"
   ]
  },
  {
   "cell_type": "code",
   "execution_count": 10,
   "metadata": {},
   "outputs": [
    {
     "name": "stdout",
     "output_type": "stream",
     "text": [
      "(3, 224, 224)\n",
      "0\n"
     ]
    }
   ],
   "source": [
    "from utils.dataloader import ClassificationDataset\n",
    "with open('./valid_cls.txt', 'r') as f:\n",
    "    c = f.readlines()\n",
    "datasets = ClassificationDataset(c, [224, 224])\n",
    "index = 0\n",
    "print(datasets[0][0].shape)\n",
    "print(datasets[0][1])\n",
    "# print(datasets.__getitem__(index)[1])"
   ]
  }
 ],
 "metadata": {
  "kernelspec": {
   "display_name": "torch1",
   "language": "python",
   "name": "python3"
  },
  "language_info": {
   "codemirror_mode": {
    "name": "ipython",
    "version": 3
   },
   "file_extension": ".py",
   "mimetype": "text/x-python",
   "name": "python",
   "nbconvert_exporter": "python",
   "pygments_lexer": "ipython3",
   "version": "3.6.13"
  },
  "orig_nbformat": 4,
  "vscode": {
   "interpreter": {
    "hash": "1e610da6369678f261160b66cb79a44937b63677291cd93401a56dbe6bb61b74"
   }
  }
 },
 "nbformat": 4,
 "nbformat_minor": 2
}
